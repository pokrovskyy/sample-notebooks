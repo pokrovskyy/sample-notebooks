{
 "cells": [
  {
   "cell_type": "markdown",
   "metadata": {},
   "source": [
    "# Hello Ruby!\n",
    "\n",
    "This is my beloved Ruby language kernel running in Jupyter Notebook - sweeeeet!"
   ]
  },
  {
   "cell_type": "code",
   "execution_count": 16,
   "metadata": {},
   "outputs": [
    {
     "name": "stdout",
     "output_type": "stream",
     "text": [
      "--------------------------------------------------\n",
      "Ruby says Hi from Jupyter Lab!\n",
      "Running Ruby 2.6.3-p62\n",
      "Today is: 2019-09-21 03:09:08 -0700\n",
      "--------------------------------------------------\n"
     ]
    }
   ],
   "source": [
    "puts '-' * 50\n",
    "puts \"Ruby says Hi from Jupyter Lab!\"\n",
    "puts \"Running Ruby #{RUBY_VERSION}-p#{RUBY_PATCHLEVEL}\"\n",
    "puts \"Today is: #{Time.now}\"\n",
    "puts '-' * 50"
   ]
  }
 ],
 "metadata": {
  "kernelspec": {
   "display_name": "Ruby 2.6.3",
   "language": "ruby",
   "name": "ruby"
  },
  "language_info": {
   "file_extension": ".rb",
   "mimetype": "application/x-ruby",
   "name": "ruby",
   "version": "2.6.3"
  }
 },
 "nbformat": 4,
 "nbformat_minor": 4
}

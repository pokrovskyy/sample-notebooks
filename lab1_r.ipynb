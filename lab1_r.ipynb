{
 "cells": [
  {
   "cell_type": "markdown",
   "metadata": {},
   "source": [
    "# 1. R Ketnel Notebook\n",
    "\n",
    "## 1.1. Sample Markdown Cell\n",
    "\n",
    "The following code will be run with R kernel:\n",
    "\n",
    "## 1.2. Sample R Code Cell"
   ]
  },
  {
   "cell_type": "code",
   "execution_count": 14,
   "metadata": {},
   "outputs": [
    {
     "name": "stdout",
     "output_type": "stream",
     "text": [
      "[1] \"Hello World in R - printed at Mon Sep 09 15:01:36 2019\"\n"
     ]
    }
   ],
   "source": [
    "print(paste(\"Hello World in R - printed at\", format(Sys.time(), \"%a %b %d %X %Y\")))"
   ]
  }
 ],
 "metadata": {
  "kernelspec": {
   "display_name": "R",
   "language": "R",
   "name": "ir"
  },
  "language_info": {
   "codemirror_mode": "r",
   "file_extension": ".r",
   "mimetype": "text/x-r-source",
   "name": "R",
   "pygments_lexer": "r",
   "version": "3.6.1"
  }
 },
 "nbformat": 4,
 "nbformat_minor": 4
}
